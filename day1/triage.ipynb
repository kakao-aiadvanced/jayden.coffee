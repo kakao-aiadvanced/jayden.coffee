{
 "cells": [
  {
   "metadata": {},
   "cell_type": "markdown",
   "source": [
    "# This is a sample Jupyter Notebook\n",
    "\n",
    "Below is an example of a code cell. \n",
    "Put your cursor into the cell and press Shift+Enter to execute it and select the next one, or click !here goes the icon of the corresponding button in the gutter! button.\n",
    "To debug a cell, press Alt+Shift+Enter, or click !here goes the icon of the corresponding button in the gutter! button.\n",
    "\n",
    "Press Double Shift to search everywhere for classes, files, tool windows, actions, and settings.\n",
    "\n",
    "To learn more about Jupyter Notebooks in PyCharm, see [help](https://www.jetbrains.com/help/pycharm/jupyter-notebook-support.html).\n",
    "For an overview of PyCharm, go to Help -> Learn IDE features or refer to [our documentation](https://www.jetbrains.com/help/pycharm/getting-started.html)."
   ],
   "id": "8a77807f92f26ee"
  },
  {
   "metadata": {
    "ExecuteTime": {
     "end_time": "2024-07-29T08:40:58.240558Z",
     "start_time": "2024-07-29T08:40:56.547778Z"
    }
   },
   "cell_type": "code",
   "source": "pip install ollama",
   "id": "fbc121e30a2defb3",
   "outputs": [
    {
     "name": "stdout",
     "output_type": "stream",
     "text": [
      "Collecting ollama\r\n",
      "  Downloading ollama-0.3.0-py3-none-any.whl.metadata (3.8 kB)\r\n",
      "Collecting httpx<0.28.0,>=0.27.0 (from ollama)\r\n",
      "  Using cached httpx-0.27.0-py3-none-any.whl.metadata (7.2 kB)\r\n",
      "Requirement already satisfied: anyio in /Users/kakao/miniconda3/lib/python3.12/site-packages (from httpx<0.28.0,>=0.27.0->ollama) (4.2.0)\r\n",
      "Requirement already satisfied: certifi in /Users/kakao/miniconda3/lib/python3.12/site-packages (from httpx<0.28.0,>=0.27.0->ollama) (2024.7.4)\r\n",
      "Collecting httpcore==1.* (from httpx<0.28.0,>=0.27.0->ollama)\r\n",
      "  Using cached httpcore-1.0.5-py3-none-any.whl.metadata (20 kB)\r\n",
      "Requirement already satisfied: idna in /Users/kakao/miniconda3/lib/python3.12/site-packages (from httpx<0.28.0,>=0.27.0->ollama) (3.4)\r\n",
      "Requirement already satisfied: sniffio in /Users/kakao/miniconda3/lib/python3.12/site-packages (from httpx<0.28.0,>=0.27.0->ollama) (1.3.0)\r\n",
      "Collecting h11<0.15,>=0.13 (from httpcore==1.*->httpx<0.28.0,>=0.27.0->ollama)\r\n",
      "  Using cached h11-0.14.0-py3-none-any.whl.metadata (8.2 kB)\r\n",
      "Downloading ollama-0.3.0-py3-none-any.whl (10 kB)\r\n",
      "Using cached httpx-0.27.0-py3-none-any.whl (75 kB)\r\n",
      "Using cached httpcore-1.0.5-py3-none-any.whl (77 kB)\r\n",
      "Using cached h11-0.14.0-py3-none-any.whl (58 kB)\r\n",
      "Installing collected packages: h11, httpcore, httpx, ollama\r\n",
      "Successfully installed h11-0.14.0 httpcore-1.0.5 httpx-0.27.0 ollama-0.3.0\r\n",
      "Note: you may need to restart the kernel to use updated packages.\n"
     ]
    }
   ],
   "execution_count": 4
  },
  {
   "metadata": {
    "ExecuteTime": {
     "end_time": "2024-07-29T08:42:59.978814Z",
     "start_time": "2024-07-29T08:42:59.976567Z"
    }
   },
   "cell_type": "code",
   "source": [
    "import os\n",
    "\n",
    "os.environ[\"OPENAI_API_KEY\"] = \"\""
   ],
   "id": "569912543bd9089f",
   "outputs": [],
   "execution_count": 5
  },
  {
   "metadata": {
    "ExecuteTime": {
     "end_time": "2024-07-29T08:47:14.674580Z",
     "start_time": "2024-07-29T08:47:14.650544Z"
    }
   },
   "cell_type": "code",
   "source": [
    "import ollama\n",
    "\n",
    "def runOllamaChat(model, messages):\n",
    "    return ollama.chat(model=model, messages=messages)"
   ],
   "id": "e81aa7ce3a9a722b",
   "outputs": [],
   "execution_count": 10
  },
  {
   "metadata": {
    "ExecuteTime": {
     "end_time": "2024-07-29T09:13:15.686952Z",
     "start_time": "2024-07-29T09:13:03.192217Z"
    }
   },
   "cell_type": "code",
   "source": [
    "# 스스로 만든 prompt\n",
    "prompt = f\"\"\"I need to triage questions from high school student. The question can be routed to below choices.\n",
    "- math teacher: when the question is about math problem.\n",
    "- history teacher: when the question is about history.\n",
    "- the others: when it is about neither math nor history\n",
    "\n",
    "Propose a triage decision along with a separate one sentence justification.\"\"\"\n",
    "\n",
    "math_question = [{\"role\": \"system\", \"content\": prompt}, {\n",
    "    \"role\": \"user\",\n",
    "    \"content\": \"What is the Pythagorean theorem?\"\n",
    "}]\n",
    "\n",
    "result = runOllamaChat(\"llama3\", math_question)\n",
    "print(result['message'])\n",
    "\n",
    "result = runOllamaChat(\"phi3\", math_question)\n",
    "print(result['message'])\n",
    "\n",
    "history_question = [{\"role\": \"system\", \"content\": prompt}, {\n",
    "    \"role\": \"user\",\n",
    "    \"content\": \"What date did World War II end??\"\n",
    "}]\n",
    "\n",
    "result = runOllamaChat(\"llama3\", history_question)\n",
    "print(result['message'])\n",
    "\n",
    "result = runOllamaChat(\"phi3\", history_question)\n",
    "print(result['message'])\n",
    "\n",
    "other_question = [{\"role\": \"system\", \"content\": prompt}, {\n",
    "    \"role\": \"user\",\n",
    "    \"content\": \"How can I learn to play piano?\"\n",
    "}]\n",
    "\n",
    "result = runOllamaChat(\"llama3\", other_question)\n",
    "print(result['message'])\n",
    "\n",
    "result = runOllamaChat(\"phi3\", other_question)\n",
    "print(result['message'])"
   ],
   "id": "ef292a7cc265b8d",
   "outputs": [
    {
     "name": "stdout",
     "output_type": "stream",
     "text": [
      "{'role': 'assistant', 'content': \"Triage decision: Math teacher\\nJustification: The question is directly related to a specific mathematical concept, making it suitable for a math teacher's expertise.\"}\n",
      "{'role': 'assistant', 'content': \" Decision: Send to Math Teacher ✅\\n\\nJustification: The question pertains directly to mathematics, specifically asking for an understanding of the fundamental principles in Euclidean geometry. As such, it's best addressed by a math teacher who can explain and further elaborate on this concept with appropriate examples or problems.\"}\n",
      "{'role': 'assistant', 'content': 'Triage decision: History Teacher\\nJustification: The question is specifically about historical information, asking for the date that World War II ended, making it suitable for a history teacher to answer.'}\n",
      "{'role': 'assistant', 'content': ' Triage Decision: History Teacher ✅\\nJustification: The provided question pertains to historical knowledge, specifically regarding the conclusion of World War II. This information falls within the expertise domain of a history teacher who can provide accurate and contextual answers.'}\n",
      "{'role': 'assistant', 'content': 'Routed to: Math Teacher (Wait, what?)\\n\\nJustification: There seems to be no mathematical concept involved in learning to play piano, so this question should go to the math teacher for clarification!'}\n",
      "{'role': 'assistant', 'content': \" Triage Decision: The Others\\n\\nJustification: This student's query pertains to learning an instrument, which does not directly involve mathematical or historical knowledge; therefore, it is most appropriate for the 'others'. If there were specific music theory questions involved, they might be better sudept for a math teacher.\"}\n"
     ]
    }
   ],
   "execution_count": 18
  },
  {
   "metadata": {
    "ExecuteTime": {
     "end_time": "2024-07-29T09:17:25.390822Z",
     "start_time": "2024-07-29T09:17:13.965832Z"
    }
   },
   "cell_type": "code",
   "source": [
    "prompt = f\"\"\"You are an AI assistant tasked with triaging questions from high school students. Your job is to review each question and determine whether it should be routed to a math teacher, history teacher, or others. Here's how to proceed:\n",
    "\n",
    "1. First, you will be presented with a student's question:\n",
    "\n",
    "<student_question>\n",
    "{{STUDENT_QUESTION}}\n",
    "</student_question>\n",
    "\n",
    "2. Carefully read and analyze the question. Consider the subject matter, any specific terms or concepts mentioned, and the overall context of the question.\n",
    "\n",
    "3. Based on your analysis, determine which category the question falls into:\n",
    "   - Math teacher: If the question involves mathematical concepts, calculations, or problem-solving.\n",
    "   - History teacher: If the question relates to historical events, figures, periods, or concepts.\n",
    "   - Others: If the question doesn't clearly fit into either math or history categories.\n",
    "\n",
    "4. Formulate a brief, one-sentence justification for your decision. This should explain the key reason why you chose that particular category.\n",
    "\n",
    "5. Provide your triage decision and justification in the following format:\n",
    "\n",
    "<triage_result>\n",
    "<justification>\n",
    "[Your one-sentence justification here]\n",
    "</justification>\n",
    "<decision>\n",
    "[Your decision: \"math teacher\", \"history teacher\", or \"others\"]\n",
    "</decision>\n",
    "</triage_result>\n",
    "\n",
    "Remember to always provide the justification before the decision. Be concise and clear in your reasoning.\"\"\"\n",
    "\n",
    "\n",
    "math_question = [{\"role\": \"system\", \"content\": prompt}, {\n",
    "    \"role\": \"user\",\n",
    "    \"content\": \"What is the Pythagorean theorem?\"\n",
    "}]\n",
    "\n",
    "result = runOllamaChat(\"llama3\", math_question)\n",
    "print(result['message'])\n",
    "\n",
    "result = runOllamaChat(\"phi3\", math_question)\n",
    "print(result['message'])\n",
    "\n",
    "history_question = [{\"role\": \"system\", \"content\": prompt}, {\n",
    "    \"role\": \"user\",\n",
    "    \"content\": \"What date did World War II end??\"\n",
    "}]\n",
    "\n",
    "result = runOllamaChat(\"llama3\", history_question)\n",
    "print(result['message'])\n",
    "\n",
    "result = runOllamaChat(\"phi3\", history_question)\n",
    "print(result['message'])\n",
    "\n",
    "other_question = [{\"role\": \"system\", \"content\": prompt}, {\n",
    "    \"role\": \"user\",\n",
    "    \"content\": \"How can I learn to play piano?\"\n",
    "}]\n",
    "\n",
    "result = runOllamaChat(\"llama3\", other_question)\n",
    "print(result['message'])\n",
    "\n",
    "result = runOllamaChat(\"phi3\", other_question)\n",
    "print(result['message'])"
   ],
   "id": "9286bf396202c56",
   "outputs": [
    {
     "name": "stdout",
     "output_type": "stream",
     "text": [
      "{'role': 'assistant', 'content': '<triage_result>\\nThe question involves mathematical concepts and calculations, specifically referencing a well-known theorem.\\n<justification>\\nThe question asks about the definition of the Pythagorean theorem, which is a fundamental concept in geometry.\\n</justification>\\n<decision>\\nmath teacher\\n</decision>\\n</triage_result>'}\n",
      "{'role': 'assistant', 'content': \" <triage_result>\\n<justification>The student's question inquires about a mathematical concept, specifically asking for an explanation of the Pythagorean theorem.</justification>\\n<decision>math teacher</decision>\\n</triage_result>\"}\n",
      "{'role': 'assistant', 'content': '<triage_result>\\nThe question mentions a specific historical event, which is the end of World War II.\\n</justification>\\n<decision>\\nhistory teacher\\n</decision>\\n</triage_result>'}\n",
      "{'role': 'assistant', 'content': ' <triage_result>\\n<justification>The question is asking for a historical fact about an event that took place between 1939 and 1945, which directly relates to the history field.</justification>\\n<decision>history teacher</decision>\\n</triage_result>'}\n",
      "{'role': 'assistant', 'content': '<triage_result>\\nThe question asks about learning a skill, which is not specific to math or history.\\n</justification>\\n<decision>\\nothers\\n</decision>\\n</triage_result>\\n\\nThis question does not fit into the math or history categories. Instead, it falls under the category of \"others\" because it\\'s related to music and piano playing, which is a separate subject.'}\n",
      "{'role': 'assistant', 'content': \" <triage_result>\\n<justification>The question is seeking guidance on a practical skill unrelated to mathematics or history, hence it doesn't require expert knowledge from these specific teachers.</justification>\\n</decision>\\n<decision>others</decision>\\n\\nExplanation: The student has asked for advice about learning the piano which falls outside of math and history subjects. Therefore, a teacher with general skills or another type of instructor would be most suitable to provide assistance in this matter.\"}\n"
     ]
    }
   ],
   "execution_count": 19
  },
  {
   "metadata": {},
   "cell_type": "code",
   "outputs": [],
   "execution_count": null,
   "source": "",
   "id": "b5875c500fa817e0"
  }
 ],
 "metadata": {
  "kernelspec": {
   "display_name": "Python 3",
   "language": "python",
   "name": "python3"
  },
  "language_info": {
   "codemirror_mode": {
    "name": "ipython",
    "version": 2
   },
   "file_extension": ".py",
   "mimetype": "text/x-python",
   "name": "python",
   "nbconvert_exporter": "python",
   "pygments_lexer": "ipython2",
   "version": "2.7.6"
  }
 },
 "nbformat": 4,
 "nbformat_minor": 5
}
